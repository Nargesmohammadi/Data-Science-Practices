{
 "cells": [
  {
   "cell_type": "code",
   "execution_count": 159,
   "id": "17b650ac",
   "metadata": {},
   "outputs": [],
   "source": [
    "from sklearn.datasets import load_iris\n",
    "import numpy as np"
   ]
  },
  {
   "cell_type": "code",
   "execution_count": 160,
   "id": "b90f945d",
   "metadata": {},
   "outputs": [],
   "source": [
    "iris = load_iris()"
   ]
  },
  {
   "cell_type": "code",
   "execution_count": 161,
   "id": "70505b9d",
   "metadata": {},
   "outputs": [],
   "source": [
    "X = iris.data\n",
    "y = iris.target"
   ]
  },
  {
   "cell_type": "code",
   "execution_count": 162,
   "id": "70073522",
   "metadata": {},
   "outputs": [],
   "source": [
    "# crating a function for building some data that we need(builing a classifier):\n",
    "def myTrainTestSplit(X,y,test_size):\n",
    "    idx =np.random.permutation(np.arange(X.shape[0]))\n",
    "    tS = int(np.floor(test_size*X.shape[0]))\n",
    "    testIdx = idx[:tS]\n",
    "    trainIdx = idx[tS:]\n",
    "    Xtrain = X[trainIdx,:]\n",
    "    ytrain = y[trainIdx]\n",
    "    Xtest = X[testIdx,:]\n",
    "    ytest = y[testIdx]\n",
    "    return Xtrain,Xtest,ytrain,ytest"
   ]
  },
  {
   "cell_type": "code",
   "execution_count": 163,
   "id": "2a6edb9d",
   "metadata": {},
   "outputs": [],
   "source": [
    "Xtrain,Xtest,ytrain,ytest = myTrainTestSplit(X,y,0.2)"
   ]
  },
  {
   "cell_type": "code",
   "execution_count": 164,
   "id": "60946882",
   "metadata": {},
   "outputs": [],
   "source": [
    "# D will have 4 dimensions so by **2 and axis=2, we change it to be a matrix without dimension:\n",
    "# D is a matrix that give us the all distances:\n",
    "D = np.sum((Xtrain[:,np.newaxis,:]-Xtest[np.newaxis,:,:])**2,axis=2)"
   ]
  },
  {
   "cell_type": "code",
   "execution_count": 165,
   "id": "204c41d9",
   "metadata": {},
   "outputs": [],
   "source": [
    "# building the nearest neighbors:\n",
    "nidx = np.argsort(D,axis=0) #sort all distances"
   ]
  },
  {
   "cell_type": "code",
   "execution_count": 166,
   "id": "be5df7ad",
   "metadata": {},
   "outputs": [],
   "source": [
    "# to compute the top down nearest neighbors\n",
    "idx = nidx[:10,0] "
   ]
  },
  {
   "cell_type": "code",
   "execution_count": 167,
   "id": "adce0ca1",
   "metadata": {},
   "outputs": [
    {
     "data": {
      "text/plain": [
       "ModeResult(mode=array([1]), count=array([10]))"
      ]
     },
     "execution_count": 167,
     "metadata": {},
     "output_type": "execute_result"
    }
   ],
   "source": [
    "from scipy import stats # for giving the mode\n",
    "stats.mode(ytrain[idx])"
   ]
  }
 ],
 "metadata": {
  "kernelspec": {
   "display_name": "Python 3 (ipykernel)",
   "language": "python",
   "name": "python3"
  },
  "language_info": {
   "codemirror_mode": {
    "name": "ipython",
    "version": 3
   },
   "file_extension": ".py",
   "mimetype": "text/x-python",
   "name": "python",
   "nbconvert_exporter": "python",
   "pygments_lexer": "ipython3",
   "version": "3.9.7"
  }
 },
 "nbformat": 4,
 "nbformat_minor": 5
}
